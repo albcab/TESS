{
 "cells": [
  {
   "cell_type": "code",
   "execution_count": 1,
   "id": "89684c94",
   "metadata": {},
   "outputs": [],
   "source": [
    "import pandas as pd\n",
    "import numpy as np\n",
    "\n",
    "import jax.numpy as jnp\n",
    "import jax.random as jrnd\n",
    "from jax.example_libraries import stax\n",
    "import optax\n",
    "\n",
    "from distributions import HorseshoeLogisticReg\n",
    "from utils import run_atess, run_neutra"
   ]
  },
  {
   "cell_type": "code",
   "execution_count": 2,
   "id": "75c2df8c",
   "metadata": {},
   "outputs": [],
   "source": [
    "data = pd.read_table('german.data-numeric', header=None, delim_whitespace=True)\n",
    "### Pre processing data as in NeuTra paper\n",
    "y = -1 * (data.iloc[:, -1].values - 2)\n",
    "X = data.iloc[:, :-1].apply(lambda x: -1 + (x - x.min()) * 2 / (x.max() - x.min()), axis=0).values\n",
    "# X = data.iloc[:, :-1].apply(lambda x: (x - x.mean()) / x.std(), axis=0).values\n",
    "X = np.concatenate([np.ones((1000, 1)), X], axis=1)\n",
    "N_OBS, N_PARAM = X.shape"
   ]
  },
  {
   "cell_type": "code",
   "execution_count": 3,
   "id": "f966cffc",
   "metadata": {},
   "outputs": [],
   "source": [
    "dist = HorseshoeLogisticReg(X, y)\n",
    "hidden_size, n_layer, n_flow, n_atoms = N_PARAM, 2, 2, 10\n",
    "n_hidden = [hidden_size] * n_layer\n",
    "optim = optax.adam(1e-4)\n",
    "non_linearity = stax.Tanh\n",
    "\n",
    "vi_iter, n_epochs, batch_size = 1000, 5, 1000\n",
    "pre_iter = n_epochs * vi_iter\n",
    "n_warm = n_epochs * batch_size #too much warm up not good for nuts, it semms\n",
    "n_warm = vi_iter\n",
    "n_iter, n_chain = 1000, 1"
   ]
  },
  {
   "cell_type": "code",
   "execution_count": 4,
   "id": "f96e1c90",
   "metadata": {},
   "outputs": [],
   "source": [
    "ksam, kcenter, kinit = jrnd.split(jrnd.PRNGKey(0), 3)\n",
    "# dist.center_model(kcenter, optim, n_atoms, vi_iter)\n",
    "dist.initialize_model(kinit, n_chain, autocenter=False)"
   ]
  },
  {
   "cell_type": "code",
   "execution_count": null,
   "id": "feb9464a",
   "metadata": {},
   "outputs": [
    {
     "name": "stderr",
     "output_type": "stream",
     "text": [
      "/home/cabezasg/.local/lib/python3.8/site-packages/jax/_src/tree_util.py:188: FutureWarning: jax.tree_util.tree_multimap() is deprecated. Please use jax.tree_util.tree_map() instead as a drop-in replacement.\n",
      "  warnings.warn('jax.tree_util.tree_multimap() is deprecated. Please use jax.tree_util.tree_map() '\n"
     ]
    }
   ],
   "source": [
    "run_atess(ksam, dist.logprob_fn, dist.init_params, \n",
    "    optim, N_PARAM * 2 + 1, n_flow, n_hidden, non_linearity, \n",
    "    n_atoms, vi_iter, n_epochs, batch_size, n_iter, n_chain)"
   ]
  },
  {
   "cell_type": "code",
   "execution_count": null,
   "id": "9f6a750b",
   "metadata": {},
   "outputs": [],
   "source": [
    "_, mcmc = run_neutra(ksam, dist.y, dist.model, dist.init_params, \n",
    "    optim, N_PARAM * 2 + 1, n_flow, n_hidden, non_linearity, \n",
    "    n_atoms, pre_iter, n_warm, n_iter, n_chain)"
   ]
  }
 ],
 "metadata": {
  "kernelspec": {
   "display_name": "Python 3 (ipykernel)",
   "language": "python",
   "name": "python3"
  },
  "language_info": {
   "codemirror_mode": {
    "name": "ipython",
    "version": 3
   },
   "file_extension": ".py",
   "mimetype": "text/x-python",
   "name": "python",
   "nbconvert_exporter": "python",
   "pygments_lexer": "ipython3",
   "version": "3.8.10"
  }
 },
 "nbformat": 4,
 "nbformat_minor": 5
}
